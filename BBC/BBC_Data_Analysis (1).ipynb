{
 "cells": [
  {
   "cell_type": "code",
   "execution_count": 19,
   "id": "f26a8abd",
   "metadata": {},
   "outputs": [],
   "source": [
    "from pyspark.sql import SparkSession\n",
    "from pyspark.sql import Row\n",
    "import json\n",
    "from pyspark.sql.functions import explode, collect_list, to_timestamp, date_format\n"
   ]
  },
  {
   "cell_type": "code",
   "execution_count": 3,
   "id": "4f432547",
   "metadata": {},
   "outputs": [],
   "source": [
    "# Initialize SparkSession\n",
    "spark = SparkSession.builder \\\n",
    "    .appName(\"BBC_Data_Analysis\") \\\n",
    "    .getOrCreate()\n"
   ]
  },
  {
   "cell_type": "code",
   "execution_count": 4,
   "id": "507c5a32",
   "metadata": {},
   "outputs": [
    {
     "name": "stdout",
     "output_type": "stream",
     "text": [
      "+--------------------+--------------------+--------------------+--------------------+--------------------+--------------------+------+--------------------+--------------------+\n",
      "|                link|            subtitle|                time|               title|              topics|              images|videos|              author|                text|\n",
      "+--------------------+--------------------+--------------------+--------------------+--------------------+--------------------+------+--------------------+--------------------+\n",
      "|https://www.bbc.c...|                    |                null|China holds milit...|[Asia, China, Tai...|[https://ichef.bb...|    []|Kelly Ng in Singa...|[China has starte...|\n",
      "|https://www.bbc.c...|                    |                null|Singapore Airline...|[Aviation acciden...|[https://ichef.bb...|    []|  Jacqueline Howard,|[More than 20 peo...|\n",
      "|https://www.bbc.c...|Dash-cam footage ...|2024-05-23T20:25:...|Golfer Scottie Sc...|                  []|                  []|    []|                    |                  []|\n",
      "|https://www.bbc.c...|There could be up...|2024-05-23T16:09:...|Hurricane season ...|[Climate, Hurrica...|[https://ichef.bb...|    []|      Mark Poynting,|[The North Atlant...|\n",
      "|https://www.bbc.c...|Kenyan President ...|2024-05-23T19:09:...|US names Kenya as...|[Kenya, Nato, Afr...|[https://ichef.bb...|    []|         Sam Cabral,|[US President Joe...|\n",
      "|https://www.bbc.c...|                    |                null|Rosenberg: Russia...|[Europe, Russia, ...|[https://ichef.bb...|    []|    Steve Rosenberg,|[When one top def...|\n",
      "|https://www.bbc.c...|                    |                null|Pope clears way f...|                  []|[https://ichef.bb...|    []|         Tom Gerken,|[A London-born te...|\n",
      "|https://www.bbc.c...|Footage emerged l...|2024-05-23T16:09:...|Diddy's violence ...|             [Music]|[https://ichef.bb...|    []|    Steven McIntosh,|[Singer Cassie ha...|\n",
      "|https://www.bbc.c...|                    |                null|Ebrahim Raisi: Ir...| [Middle East, Iran]|[https://ichef.bb...|    []|      David Gritten,|[Iran's late Pres...|\n",
      "|https://www.bbc.c...|                    |2024-05-23T18:09:...|Macron puts New C...|[Europe, New Cale...|[https://ichef.bb...|    []|     Thomas Spender,|[President Emmanu...|\n",
      "|https://www.bbc.c...|                    |2024-05-23T20:22:...|Malnourished sea ...|                  []|                  []|    []|                    |                  []|\n",
      "|https://www.bbc.c...|                    |2024-05-23T15:09:...|Daily cannabis us...|[Cannabis , Drug ...|[https://ichef.bb...|    []|         Sam Cabral,|[The number of Am...|\n",
      "|https://www.bbc.c...|Fighting is devas...|2024-05-23T19:09:...|Sudan's El Fasher...|     [Sudan, Africa]|[https://ichef.bb...|    []|Mohamed Zakaria O...|[Fierce fighting ...|\n",
      "|https://www.bbc.c...|                    |                null|How Rishi Sunak s...|[Conservative Par...|[https://ichef.bb...|    []|      Henry Zeffman,|[“Labour MPs are ...|\n",
      "|https://www.bbc.c...|                    |                null|William Ruto in U...|[Kenya, Africa, U...|[https://ichef.bb...|    []|Barbara Plett Usher,|[Kenyan President...|\n",
      "|https://www.bbc.c...|New harrowing foo...|2024-05-23T08:09:...|Israeli hostage's...|[Israel, Palestin...|[https://ichef.bb...|    []|       Lucy Manning,|[The brother of I...|\n",
      "|https://www.bbc.c...|Aviation experts ...|2024-05-23T00:09:...|What is it like t...|[Singapore, Trave...|[https://ichef.bb...|    []|  Charlotte Edwards,|[For passengers o...|\n",
      "|https://www.bbc.c...|A clash with the ...|2024-05-23T09:09:...|Scarlett Johansso...|[Scarlett Johanss...|[https://ichef.bb...|    []|       Zoe Kleinman,|[“Move fast and b...|\n",
      "|https://www.bbc.c...|An election has b...|2024-05-22T21:09:...|Chris Mason: Why ...|[General election...|[https://ichef.bb...|    []|     By Chris Mason,|[The general elec...|\n",
      "|https://www.bbc.c...|                    |                null|One-minute World ...|                  []|                  []|    []|                    |                  []|\n",
      "+--------------------+--------------------+--------------------+--------------------+--------------------+--------------------+------+--------------------+--------------------+\n",
      "only showing top 20 rows\n",
      "\n"
     ]
    }
   ],
   "source": [
    "# Reading dictionary from a JSON file\n",
    "with open('scraping_news_data.json', 'r') as json_file:\n",
    "    data = json.load(json_file)\n",
    "\n",
    "\n",
    "# Flatten the dictionary\n",
    "flatten_data = []\n",
    "for key, inner_dict in data.items():\n",
    "    flatten_data.append(Row( **inner_dict))\n",
    "\n",
    "# Create a DataFrame\n",
    "df = spark.createDataFrame(flatten_data)\n",
    "\n",
    "# Show the DataFrame\n",
    "df.show()\n",
    "\n"
   ]
  },
  {
   "cell_type": "code",
   "execution_count": 5,
   "id": "31e44454",
   "metadata": {},
   "outputs": [
    {
     "data": {
      "text/plain": [
       "[('link', 'string'),\n",
       " ('subtitle', 'string'),\n",
       " ('time', 'string'),\n",
       " ('title', 'string'),\n",
       " ('topics', 'array<string>'),\n",
       " ('images', 'array<string>'),\n",
       " ('videos', 'array<string>'),\n",
       " ('author', 'string'),\n",
       " ('text', 'array<string>')]"
      ]
     },
     "execution_count": 5,
     "metadata": {},
     "output_type": "execute_result"
    }
   ],
   "source": [
    "df.dtypes"
   ]
  },
  {
   "cell_type": "code",
   "execution_count": 6,
   "id": "52877031",
   "metadata": {},
   "outputs": [],
   "source": [
    "df = df.withColumn(\"time\", to_timestamp(\"time\"))"
   ]
  },
  {
   "cell_type": "code",
   "execution_count": 7,
   "id": "8672eb7b",
   "metadata": {},
   "outputs": [
    {
     "data": {
      "text/plain": [
       "[('link', 'string'),\n",
       " ('subtitle', 'string'),\n",
       " ('time', 'timestamp'),\n",
       " ('title', 'string'),\n",
       " ('topics', 'array<string>'),\n",
       " ('images', 'array<string>'),\n",
       " ('videos', 'array<string>'),\n",
       " ('author', 'string'),\n",
       " ('text', 'array<string>')]"
      ]
     },
     "execution_count": 7,
     "metadata": {},
     "output_type": "execute_result"
    }
   ],
   "source": [
    "df.dtypes"
   ]
  },
  {
   "cell_type": "code",
   "execution_count": 11,
   "id": "c6d33fa2",
   "metadata": {},
   "outputs": [
    {
     "name": "stdout",
     "output_type": "stream",
     "text": [
      "+--------------------+--------------------+--------------------+--------------------+--------------------+--------------------+------+--------------------+--------------------+\n",
      "|                link|            subtitle|                time|               title|              topics|              images|videos|              author|                text|\n",
      "+--------------------+--------------------+--------------------+--------------------+--------------------+--------------------+------+--------------------+--------------------+\n",
      "|https://www.bbc.c...|                    |                null|China holds milit...|[Asia, China, Tai...|[https://ichef.bb...|    []|Kelly Ng in Singa...|[China has starte...|\n",
      "|https://www.bbc.c...|                    |                null|Singapore Airline...|[Aviation acciden...|[https://ichef.bb...|    []|  Jacqueline Howard,|[More than 20 peo...|\n",
      "|https://www.bbc.c...|Dash-cam footage ...|2024-05-23 20:25:...|Golfer Scottie Sc...|                  []|                  []|    []|                    |                  []|\n",
      "|https://www.bbc.c...|There could be up...|2024-05-23 16:09:...|Hurricane season ...|[Climate, Hurrica...|[https://ichef.bb...|    []|      Mark Poynting,|[The North Atlant...|\n",
      "|https://www.bbc.c...|Kenyan President ...|2024-05-23 19:09:...|US names Kenya as...|[Kenya, Nato, Afr...|[https://ichef.bb...|    []|         Sam Cabral,|[US President Joe...|\n",
      "|https://www.bbc.c...|                    |                null|Rosenberg: Russia...|[Europe, Russia, ...|[https://ichef.bb...|    []|    Steve Rosenberg,|[When one top def...|\n",
      "|https://www.bbc.c...|                    |                null|Pope clears way f...|                  []|[https://ichef.bb...|    []|         Tom Gerken,|[A London-born te...|\n",
      "|https://www.bbc.c...|Footage emerged l...|2024-05-23 16:09:...|Diddy's violence ...|             [Music]|[https://ichef.bb...|    []|    Steven McIntosh,|[Singer Cassie ha...|\n",
      "|https://www.bbc.c...|                    |                null|Ebrahim Raisi: Ir...| [Middle East, Iran]|[https://ichef.bb...|    []|      David Gritten,|[Iran's late Pres...|\n",
      "|https://www.bbc.c...|                    |2024-05-23 18:09:...|Macron puts New C...|[Europe, New Cale...|[https://ichef.bb...|    []|     Thomas Spender,|[President Emmanu...|\n",
      "|https://www.bbc.c...|                    |2024-05-23 20:22:...|Malnourished sea ...|                  []|                  []|    []|                    |                  []|\n",
      "|https://www.bbc.c...|                    |2024-05-23 15:09:...|Daily cannabis us...|[Cannabis , Drug ...|[https://ichef.bb...|    []|         Sam Cabral,|[The number of Am...|\n",
      "|https://www.bbc.c...|Fighting is devas...|2024-05-23 19:09:...|Sudan's El Fasher...|     [Sudan, Africa]|[https://ichef.bb...|    []|Mohamed Zakaria O...|[Fierce fighting ...|\n",
      "|https://www.bbc.c...|                    |                null|How Rishi Sunak s...|[Conservative Par...|[https://ichef.bb...|    []|      Henry Zeffman,|[“Labour MPs are ...|\n",
      "|https://www.bbc.c...|                    |                null|William Ruto in U...|[Kenya, Africa, U...|[https://ichef.bb...|    []|Barbara Plett Usher,|[Kenyan President...|\n",
      "|https://www.bbc.c...|New harrowing foo...|2024-05-23 08:09:...|Israeli hostage's...|[Israel, Palestin...|[https://ichef.bb...|    []|       Lucy Manning,|[The brother of I...|\n",
      "|https://www.bbc.c...|Aviation experts ...|2024-05-23 00:09:...|What is it like t...|[Singapore, Trave...|[https://ichef.bb...|    []|  Charlotte Edwards,|[For passengers o...|\n",
      "|https://www.bbc.c...|A clash with the ...|2024-05-23 09:09:...|Scarlett Johansso...|[Scarlett Johanss...|[https://ichef.bb...|    []|       Zoe Kleinman,|[“Move fast and b...|\n",
      "|https://www.bbc.c...|An election has b...|2024-05-22 21:09:...|Chris Mason: Why ...|[General election...|[https://ichef.bb...|    []|     By Chris Mason,|[The general elec...|\n",
      "|https://www.bbc.c...|                    |                null|One-minute World ...|                  []|                  []|    []|                    |                  []|\n",
      "+--------------------+--------------------+--------------------+--------------------+--------------------+--------------------+------+--------------------+--------------------+\n",
      "only showing top 20 rows\n",
      "\n"
     ]
    }
   ],
   "source": [
    "df.show()"
   ]
  },
  {
   "cell_type": "code",
   "execution_count": 20,
   "id": "0220af23",
   "metadata": {},
   "outputs": [
    {
     "name": "stdout",
     "output_type": "stream",
     "text": [
      "+--------------------+--------------------+--------------------+--------------------+--------------------+--------------------+--------------------+--------------------+--------------------+\n",
      "|                link|            subtitle|                time|               title|              topics|              images|              videos|              author|                text|\n",
      "+--------------------+--------------------+--------------------+--------------------+--------------------+--------------------+--------------------+--------------------+--------------------+\n",
      "|https://www.bbc.c...|Dash-cam footage ...|2024-05-23 20:25:...|Golfer Scottie Sc...|                  []|                  []|                  []|                    |                  []|\n",
      "|https://www.bbc.c...|There could be up...|2024-05-23 16:09:...|Hurricane season ...|[Climate, Hurrica...|[https://ichef.bb...|                  []|      Mark Poynting,|[The North Atlant...|\n",
      "|https://www.bbc.c...|Kenyan President ...|2024-05-23 19:09:...|US names Kenya as...|[Kenya, Nato, Afr...|[https://ichef.bb...|                  []|         Sam Cabral,|[US President Joe...|\n",
      "|https://www.bbc.c...|Footage emerged l...|2024-05-23 16:09:...|Diddy's violence ...|             [Music]|[https://ichef.bb...|                  []|    Steven McIntosh,|[Singer Cassie ha...|\n",
      "|https://www.bbc.c...|                    |2024-05-23 18:09:...|Macron puts New C...|[Europe, New Cale...|[https://ichef.bb...|                  []|     Thomas Spender,|[President Emmanu...|\n",
      "|https://www.bbc.c...|                    |2024-05-23 20:22:...|Malnourished sea ...|                  []|                  []|                  []|                    |                  []|\n",
      "|https://www.bbc.c...|                    |2024-05-23 15:09:...|Daily cannabis us...|[Cannabis , Drug ...|[https://ichef.bb...|                  []|         Sam Cabral,|[The number of Am...|\n",
      "|https://www.bbc.c...|Fighting is devas...|2024-05-23 19:09:...|Sudan's El Fasher...|     [Sudan, Africa]|[https://ichef.bb...|                  []|Mohamed Zakaria O...|[Fierce fighting ...|\n",
      "|https://www.bbc.c...|New harrowing foo...|2024-05-23 08:09:...|Israeli hostage's...|[Israel, Palestin...|[https://ichef.bb...|                  []|       Lucy Manning,|[The brother of I...|\n",
      "|https://www.bbc.c...|Aviation experts ...|2024-05-23 00:09:...|What is it like t...|[Singapore, Trave...|[https://ichef.bb...|                  []|  Charlotte Edwards,|[For passengers o...|\n",
      "|https://www.bbc.c...|A clash with the ...|2024-05-23 09:09:...|Scarlett Johansso...|[Scarlett Johanss...|[https://ichef.bb...|                  []|       Zoe Kleinman,|[“Move fast and b...|\n",
      "|https://www.bbc.c...|The Ghanaian todd...|2024-05-23 13:09:...|Ace-Liam Ankrah: ...|[World records, A...|[https://ichef.bb...|                  []|Danai Nesta Kupemba,|[The mother of th...|\n",
      "|https://www.bbc.c...|The work is one o...|2024-05-23 18:09:...|Stolen €5m Franci...|       [Madrid, Art]|[https://ichef.bb...|                  []|        Cat McGowan,|[Spanish police h...|\n",
      "|https://www.bbc.c...|The band call him...|2024-05-23 09:09:...|Charlie Colin: Fo...|             [Music]|[https://ichef.bb...|                  []|       Helen Bushby,|[US rock band Tra...|\n",
      "|https://www.bbc.c...|Residents are pic...|2024-05-23 17:09:...|Drone shows path ...|                  []|                  []|                  []|                    |                  []|\n",
      "|https://www.bbc.c...|Oxford Action for...|2024-05-23 20:09:...|Oxford University...|[Israel-Gaza war,...|[https://ichef.bb...|                  []|        Ethan Gudge,|[Sixteen proteste...|\n",
      "|https://www.bbc.c...|Norfolk Southern ...|2024-05-23 19:09:...|East Palestine: F...|[Ohio, East Pales...|[https://ichef.bb...|                  []| Bernd Debusmann Jr,|[The firm at the ...|\n",
      "|https://www.bbc.c...|Officials allege ...|2024-05-23 18:09:...|Live Nation: US s...|[International Bu...|[https://ichef.bb...|                  []|      Peter Hoskins,|[US regulators ha...|\n",
      "|https://www.bbc.c...|England comfortab...|2024-05-23 20:13:...|England v Pakista...|                  []|                  []|[//emp.bbc.com/em...|                    |[First ODI, Count...|\n",
      "|https://www.bbc.c...|Max Verstappen sa...|2024-05-23 17:09:...|Max Verstappen: M...|                  []|[https://ichef.bb...|                  []|                    |[Max Verstappen s...|\n",
      "+--------------------+--------------------+--------------------+--------------------+--------------------+--------------------+--------------------+--------------------+--------------------+\n",
      "only showing top 20 rows\n",
      "\n"
     ]
    }
   ],
   "source": [
    "# Filter rows where date is May 23, 2024\n",
    "df_filtered = df.filter(date_format(df[\"time\"], \"yyyy-MM-dd\") == \"2024-05-23\")\n",
    "df_filtered.show()"
   ]
  },
  {
   "cell_type": "code",
   "execution_count": 24,
   "id": "2a83eaef",
   "metadata": {},
   "outputs": [
    {
     "name": "stdout",
     "output_type": "stream",
     "text": [
      "+--------------------+-----+\n",
      "|               Topic|count|\n",
      "+--------------------+-----+\n",
      "|              Africa|    4|\n",
      "|       United States|    4|\n",
      "|           Singapore|    3|\n",
      "|          Air travel|    3|\n",
      "|           Aerospace|    2|\n",
      "|              Travel|    2|\n",
      "|              Europe|    2|\n",
      "|         Rishi Sunak|    2|\n",
      "|                 Art|    2|\n",
      "|             Bangkok|    2|\n",
      "|                Asia|    2|\n",
      "|               Music|    2|\n",
      "|               Kenya|    2|\n",
      "|London Heathrow A...|    1|\n",
      "|             Beijing|    1|\n",
      "|          Hurricanes|    1|\n",
      "|              Taiwan|    1|\n",
      "|Aviation accident...|    1|\n",
      "|             Climate|    1|\n",
      "|              Russia|    1|\n",
      "+--------------------+-----+\n",
      "only showing top 20 rows\n",
      "\n"
     ]
    }
   ],
   "source": [
    "# Perform explode on topics column\n",
    "df_exploded = df.withColumn(\"topic\", explode(\"topics\"))\n",
    "#Extracting trending topics\n",
    "trending_topics=df_exploded.groupBy(\"Topic\" ).count()\n",
    "trending_topics=trending_topics.orderBy('count',ascending=0)\n",
    "trending_topics.show()"
   ]
  },
  {
   "cell_type": "code",
   "execution_count": 35,
   "id": "0c7b30c4",
   "metadata": {},
   "outputs": [
    {
     "name": "stdout",
     "output_type": "stream",
     "text": [
      "+--------------------+--------------------+--------------------+-----+\n",
      "|               Topic|            Articles|               Topic|count|\n",
      "+--------------------+--------------------+--------------------+-----+\n",
      "|              Africa|[US names Kenya a...|              Africa|    4|\n",
      "|       United States|[US names Kenya a...|       United States|    4|\n",
      "|           Singapore|[Singapore Airlin...|           Singapore|    3|\n",
      "|          Air travel|[Singapore Airlin...|          Air travel|    3|\n",
      "|           Aerospace|[What is it like ...|           Aerospace|    2|\n",
      "|              Travel|[Singapore Airlin...|              Travel|    2|\n",
      "|              Europe|[Rosenberg: Russi...|              Europe|    2|\n",
      "|         Rishi Sunak|[How Rishi Sunak ...|         Rishi Sunak|    2|\n",
      "|                 Art|[Ace-Liam Ankrah:...|                 Art|    2|\n",
      "|             Bangkok|[Singapore Airlin...|             Bangkok|    2|\n",
      "|                Asia|[China holds mili...|                Asia|    2|\n",
      "|               Music|[Diddy's violence...|               Music|    2|\n",
      "|               Kenya|[US names Kenya a...|               Kenya|    2|\n",
      "|London Heathrow A...|[Singapore Airlin...|London Heathrow A...|    1|\n",
      "|             Beijing|[China holds mili...|             Beijing|    1|\n",
      "|          Hurricanes|[Hurricane season...|          Hurricanes|    1|\n",
      "|              Taiwan|[China holds mili...|              Taiwan|    1|\n",
      "|Aviation accident...|[Singapore Airlin...|Aviation accident...|    1|\n",
      "|             Climate|[Hurricane season...|             Climate|    1|\n",
      "|              Russia|[Rosenberg: Russi...|              Russia|    1|\n",
      "+--------------------+--------------------+--------------------+-----+\n",
      "only showing top 20 rows\n",
      "\n"
     ]
    }
   ],
   "source": [
    "#Grouping by \"Topic\" and aggregating the titles\n",
    "classified_articles = df_exploded.groupBy(\"Topic\").agg(collect_list(\"Title\").alias(\"Articles\"))\n",
    "#Adding 'count' column ti classified_articles:\n",
    "join_df=classified_articles.join(trending_topics,classified_articles.Topic==trending_topics.Topic)\n",
    "#Ordring by popularity of the topic\n",
    "join_df=join_df.orderBy('count',ascending=0)\n",
    "#Showing the result\n",
    "join_df.show()\n",
    "\n"
   ]
  },
  {
   "cell_type": "code",
   "execution_count": 26,
   "id": "5cf49a8e",
   "metadata": {},
   "outputs": [
    {
     "data": {
      "text/plain": [
       "Row(Topic='London Heathrow Airport', Articles=['Singapore Airlines: More than twenty treated for spinal injuries after turbulence flight'])"
      ]
     },
     "execution_count": 26,
     "metadata": {},
     "output_type": "execute_result"
    }
   ],
   "source": []
  },
  {
   "cell_type": "code",
   "execution_count": 27,
   "id": "2ec6829d",
   "metadata": {},
   "outputs": [],
   "source": [
    "join_df=classified_articles.join(trending_topics,classified_articles.Topic==trending_topics.Topic)"
   ]
  },
  {
   "cell_type": "code",
   "execution_count": 28,
   "id": "acf515b7",
   "metadata": {},
   "outputs": [],
   "source": [
    "join_df=join_df.orderBy('count',ascending=0)"
   ]
  },
  {
   "cell_type": "code",
   "execution_count": 30,
   "id": "622a30f1",
   "metadata": {},
   "outputs": [
    {
     "name": "stdout",
     "output_type": "stream",
     "text": [
      "+--------------------+--------------------+--------------------+-----+\n",
      "|               Topic|            Articles|               Topic|count|\n",
      "+--------------------+--------------------+--------------------+-----+\n",
      "|              Africa|[US names Kenya a...|              Africa|    4|\n",
      "|       United States|[US names Kenya a...|       United States|    4|\n",
      "|           Singapore|[Singapore Airlin...|           Singapore|    3|\n",
      "|          Air travel|[Singapore Airlin...|          Air travel|    3|\n",
      "|           Aerospace|[What is it like ...|           Aerospace|    2|\n",
      "|              Travel|[Singapore Airlin...|              Travel|    2|\n",
      "|              Europe|[Rosenberg: Russi...|              Europe|    2|\n",
      "|         Rishi Sunak|[How Rishi Sunak ...|         Rishi Sunak|    2|\n",
      "|                 Art|[Ace-Liam Ankrah:...|                 Art|    2|\n",
      "|             Bangkok|[Singapore Airlin...|             Bangkok|    2|\n",
      "|                Asia|[China holds mili...|                Asia|    2|\n",
      "|               Music|[Diddy's violence...|               Music|    2|\n",
      "|               Kenya|[US names Kenya a...|               Kenya|    2|\n",
      "|London Heathrow A...|[Singapore Airlin...|London Heathrow A...|    1|\n",
      "|             Beijing|[China holds mili...|             Beijing|    1|\n",
      "|          Hurricanes|[Hurricane season...|          Hurricanes|    1|\n",
      "|              Taiwan|[China holds mili...|              Taiwan|    1|\n",
      "|Aviation accident...|[Singapore Airlin...|Aviation accident...|    1|\n",
      "|             Climate|[Hurricane season...|             Climate|    1|\n",
      "|              Russia|[Rosenberg: Russi...|              Russia|    1|\n",
      "+--------------------+--------------------+--------------------+-----+\n",
      "only showing top 20 rows\n",
      "\n"
     ]
    }
   ],
   "source": [
    "join_df.show()"
   ]
  },
  {
   "cell_type": "code",
   "execution_count": null,
   "id": "a12c124e",
   "metadata": {},
   "outputs": [],
   "source": []
  }
 ],
 "metadata": {
  "kernelspec": {
   "display_name": "Python 3 (ipykernel)",
   "language": "python",
   "name": "python3"
  },
  "language_info": {
   "codemirror_mode": {
    "name": "ipython",
    "version": 3
   },
   "file_extension": ".py",
   "mimetype": "text/x-python",
   "name": "python",
   "nbconvert_exporter": "python",
   "pygments_lexer": "ipython3",
   "version": "3.10.8"
  }
 },
 "nbformat": 4,
 "nbformat_minor": 5
}
