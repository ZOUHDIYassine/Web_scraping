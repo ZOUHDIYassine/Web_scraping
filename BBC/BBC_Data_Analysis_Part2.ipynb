{
 "cells": [
  {
   "cell_type": "code",
   "execution_count": 1,
   "id": "f26a8abd",
   "metadata": {},
   "outputs": [],
   "source": [
    "from pyspark.sql import SparkSession\n",
    "from pyspark.sql import Row\n",
    "import json\n",
    "from pyspark.sql.functions import explode, collect_list, to_timestamp, date_format\n",
    "from pyspark.sql.types import StructType, StructField, StringType, ArrayType\n"
   ]
  },
  {
   "cell_type": "code",
   "execution_count": 2,
   "id": "da5013fc",
   "metadata": {},
   "outputs": [],
   "source": [
    "# Using zipfile module in a Jupyter notebook\n",
    "#import zipfile\n",
    "#import os\n",
    "\n",
    "# Path to the zip file\n",
    "#zip_file_path = '2024_data.zip'\n",
    "\n",
    "# Path to extract\n",
    "#extraction_path = ''\n",
    "\n",
    "\n",
    "# Extract the zip file\n",
    "#with zipfile.ZipFile(zip_file_path, 'r') as zip_ref:\n",
    "#    zip_ref.extractall(extraction_path)\n",
    "\n",
    "#print(f\"Extracted all files to {extraction_path}\")\n",
    "\n"
   ]
  },
  {
   "cell_type": "code",
   "execution_count": 3,
   "id": "4f432547",
   "metadata": {},
   "outputs": [],
   "source": [
    "# Initialize SparkSession\n",
    "spark = SparkSession.builder \\\n",
    "    .appName(\"BBC_Data_Analysis\") \\\n",
    "    .getOrCreate()\n"
   ]
  },
  {
   "cell_type": "code",
   "execution_count": 4,
   "id": "507c5a32",
   "metadata": {},
   "outputs": [
    {
     "name": "stdout",
     "output_type": "stream",
     "text": [
      "+--------------------+--------------------+--------------------+--------------------+--------------------+--------------------+------+--------------------+--------------------+\n",
      "|                link|            subtitle|                time|               title|              topics|              images|videos|              author|                text|\n",
      "+--------------------+--------------------+--------------------+--------------------+--------------------+--------------------+------+--------------------+--------------------+\n",
      "|https://www.bbc.c...|                    |                null|China holds milit...|[Asia, China, Tai...|[https://ichef.bb...|    []|Kelly Ng in Singa...|[China has starte...|\n",
      "|https://www.bbc.c...|                    |                null|Singapore Airline...|[Aviation acciden...|[https://ichef.bb...|    []|  Jacqueline Howard,|[More than 20 peo...|\n",
      "|https://www.bbc.c...|Dash-cam footage ...|2024-05-23T20:25:...|Golfer Scottie Sc...|                  []|                  []|    []|                    |                  []|\n",
      "|https://www.bbc.c...|There could be up...|2024-05-23T16:09:...|Hurricane season ...|[Climate, Hurrica...|[https://ichef.bb...|    []|      Mark Poynting,|[The North Atlant...|\n",
      "|https://www.bbc.c...|Kenyan President ...|2024-05-23T19:09:...|US names Kenya as...|[Kenya, Nato, Afr...|[https://ichef.bb...|    []|         Sam Cabral,|[US President Joe...|\n",
      "|https://www.bbc.c...|                    |                null|Rosenberg: Russia...|[Europe, Russia, ...|[https://ichef.bb...|    []|    Steve Rosenberg,|[When one top def...|\n",
      "|https://www.bbc.c...|                    |                null|Pope clears way f...|                  []|[https://ichef.bb...|    []|         Tom Gerken,|[A London-born te...|\n",
      "|https://www.bbc.c...|Footage emerged l...|2024-05-23T16:09:...|Diddy's violence ...|             [Music]|[https://ichef.bb...|    []|    Steven McIntosh,|[Singer Cassie ha...|\n",
      "|https://www.bbc.c...|                    |                null|Ebrahim Raisi: Ir...| [Middle East, Iran]|[https://ichef.bb...|    []|      David Gritten,|[Iran's late Pres...|\n",
      "|https://www.bbc.c...|                    |2024-05-23T18:09:...|Macron puts New C...|[Europe, New Cale...|[https://ichef.bb...|    []|     Thomas Spender,|[President Emmanu...|\n",
      "|https://www.bbc.c...|                    |2024-05-23T20:22:...|Malnourished sea ...|                  []|                  []|    []|                    |                  []|\n",
      "|https://www.bbc.c...|                    |2024-05-23T15:09:...|Daily cannabis us...|[Cannabis , Drug ...|[https://ichef.bb...|    []|         Sam Cabral,|[The number of Am...|\n",
      "|https://www.bbc.c...|Fighting is devas...|2024-05-23T19:09:...|Sudan's El Fasher...|     [Sudan, Africa]|[https://ichef.bb...|    []|Mohamed Zakaria O...|[Fierce fighting ...|\n",
      "|https://www.bbc.c...|                    |                null|How Rishi Sunak s...|[Conservative Par...|[https://ichef.bb...|    []|      Henry Zeffman,|[“Labour MPs are ...|\n",
      "|https://www.bbc.c...|                    |                null|William Ruto in U...|[Kenya, Africa, U...|[https://ichef.bb...|    []|Barbara Plett Usher,|[Kenyan President...|\n",
      "|https://www.bbc.c...|New harrowing foo...|2024-05-23T08:09:...|Israeli hostage's...|[Israel, Palestin...|[https://ichef.bb...|    []|       Lucy Manning,|[The brother of I...|\n",
      "|https://www.bbc.c...|Aviation experts ...|2024-05-23T00:09:...|What is it like t...|[Singapore, Trave...|[https://ichef.bb...|    []|  Charlotte Edwards,|[For passengers o...|\n",
      "|https://www.bbc.c...|A clash with the ...|2024-05-23T09:09:...|Scarlett Johansso...|[Scarlett Johanss...|[https://ichef.bb...|    []|       Zoe Kleinman,|[“Move fast and b...|\n",
      "|https://www.bbc.c...|An election has b...|2024-05-22T21:09:...|Chris Mason: Why ...|[General election...|[https://ichef.bb...|    []|     By Chris Mason,|[The general elec...|\n",
      "|https://www.bbc.c...|                    |                null|One-minute World ...|                  []|                  []|    []|                    |                  []|\n",
      "+--------------------+--------------------+--------------------+--------------------+--------------------+--------------------+------+--------------------+--------------------+\n",
      "only showing top 20 rows\n",
      "\n"
     ]
    }
   ],
   "source": [
    "# Reading dictionary from a JSON file\n",
    "with open('scraping_news_data.json', 'r') as json_file:\n",
    "    data = json.load(json_file)\n",
    "\n",
    "\n",
    "# Flatten the dictionary\n",
    "flatten_data = []\n",
    "for key, inner_dict in data.items():\n",
    "    flatten_data.append(Row( **inner_dict))\n",
    "\n",
    "# Create a DataFrame\n",
    "df = spark.createDataFrame(flatten_data)\n",
    "\n",
    "# Show the DataFrame\n",
    "df.show()\n",
    "\n"
   ]
  },
  {
   "cell_type": "code",
   "execution_count": 5,
   "id": "f5a658a1",
   "metadata": {},
   "outputs": [],
   "source": [
    "schema = StructType([\n",
    "    StructField(\"link\", StringType(), True),\n",
    "    StructField(\"subtitle\", StringType(), True),\n",
    "    StructField(\"time\", StringType(), True),\n",
    "    StructField(\"title\", StringType(), True),\n",
    "    StructField(\"topics\", ArrayType(StringType()), True),\n",
    "    StructField(\"images\", ArrayType(StringType()), True),\n",
    "    StructField(\"videos\", ArrayType(StringType()), True),\n",
    "    StructField(\"author\", StringType(), True),\n",
    "    StructField(\"text\", ArrayType(StringType()), True)\n",
    "])"
   ]
  },
  {
   "cell_type": "code",
   "execution_count": 6,
   "id": "cc6ce285",
   "metadata": {},
   "outputs": [
    {
     "data": {
      "text/plain": [
       "39"
      ]
     },
     "execution_count": 6,
     "metadata": {},
     "output_type": "execute_result"
    }
   ],
   "source": [
    "df.count()"
   ]
  },
  {
   "cell_type": "code",
   "execution_count": 7,
   "id": "25b40940",
   "metadata": {},
   "outputs": [
    {
     "name": "stdout",
     "output_type": "stream",
     "text": [
      "+--------------------+--------------------+--------------------+--------------------+--------------------+--------------------+------+--------------------+--------------------+\n",
      "|                link|            subtitle|                time|               title|              topics|              images|videos|              author|                text|\n",
      "+--------------------+--------------------+--------------------+--------------------+--------------------+--------------------+------+--------------------+--------------------+\n",
      "|https://www.bbc.c...|                    |                null|China holds milit...|[Asia, China, Tai...|[https://ichef.bb...|    []|Kelly Ng in Singa...|[China has starte...|\n",
      "|https://www.bbc.c...|                    |                null|Singapore Airline...|[Aviation acciden...|[https://ichef.bb...|    []|  Jacqueline Howard,|[More than 20 peo...|\n",
      "|https://www.bbc.c...|Dash-cam footage ...|2024-05-23T20:25:...|Golfer Scottie Sc...|                  []|                  []|    []|                    |                  []|\n",
      "|https://www.bbc.c...|There could be up...|2024-05-23T16:09:...|Hurricane season ...|[Climate, Hurrica...|[https://ichef.bb...|    []|      Mark Poynting,|[The North Atlant...|\n",
      "|https://www.bbc.c...|Kenyan President ...|2024-05-23T19:09:...|US names Kenya as...|[Kenya, Nato, Afr...|[https://ichef.bb...|    []|         Sam Cabral,|[US President Joe...|\n",
      "|https://www.bbc.c...|                    |                null|Rosenberg: Russia...|[Europe, Russia, ...|[https://ichef.bb...|    []|    Steve Rosenberg,|[When one top def...|\n",
      "|https://www.bbc.c...|                    |                null|Pope clears way f...|                  []|[https://ichef.bb...|    []|         Tom Gerken,|[A London-born te...|\n",
      "|https://www.bbc.c...|Footage emerged l...|2024-05-23T16:09:...|Diddy's violence ...|             [Music]|[https://ichef.bb...|    []|    Steven McIntosh,|[Singer Cassie ha...|\n",
      "|https://www.bbc.c...|                    |                null|Ebrahim Raisi: Ir...| [Middle East, Iran]|[https://ichef.bb...|    []|      David Gritten,|[Iran's late Pres...|\n",
      "|https://www.bbc.c...|                    |2024-05-23T18:09:...|Macron puts New C...|[Europe, New Cale...|[https://ichef.bb...|    []|     Thomas Spender,|[President Emmanu...|\n",
      "|https://www.bbc.c...|                    |2024-05-23T20:22:...|Malnourished sea ...|                  []|                  []|    []|                    |                  []|\n",
      "|https://www.bbc.c...|                    |2024-05-23T15:09:...|Daily cannabis us...|[Cannabis , Drug ...|[https://ichef.bb...|    []|         Sam Cabral,|[The number of Am...|\n",
      "|https://www.bbc.c...|Fighting is devas...|2024-05-23T19:09:...|Sudan's El Fasher...|     [Sudan, Africa]|[https://ichef.bb...|    []|Mohamed Zakaria O...|[Fierce fighting ...|\n",
      "|https://www.bbc.c...|                    |                null|How Rishi Sunak s...|[Conservative Par...|[https://ichef.bb...|    []|      Henry Zeffman,|[“Labour MPs are ...|\n",
      "|https://www.bbc.c...|                    |                null|William Ruto in U...|[Kenya, Africa, U...|[https://ichef.bb...|    []|Barbara Plett Usher,|[Kenyan President...|\n",
      "|https://www.bbc.c...|New harrowing foo...|2024-05-23T08:09:...|Israeli hostage's...|[Israel, Palestin...|[https://ichef.bb...|    []|       Lucy Manning,|[The brother of I...|\n",
      "|https://www.bbc.c...|Aviation experts ...|2024-05-23T00:09:...|What is it like t...|[Singapore, Trave...|[https://ichef.bb...|    []|  Charlotte Edwards,|[For passengers o...|\n",
      "|https://www.bbc.c...|A clash with the ...|2024-05-23T09:09:...|Scarlett Johansso...|[Scarlett Johanss...|[https://ichef.bb...|    []|       Zoe Kleinman,|[“Move fast and b...|\n",
      "|https://www.bbc.c...|An election has b...|2024-05-22T21:09:...|Chris Mason: Why ...|[General election...|[https://ichef.bb...|    []|     By Chris Mason,|[The general elec...|\n",
      "|https://www.bbc.c...|                    |                null|One-minute World ...|                  []|                  []|    []|                    |                  []|\n",
      "+--------------------+--------------------+--------------------+--------------------+--------------------+--------------------+------+--------------------+--------------------+\n",
      "only showing top 20 rows\n",
      "\n"
     ]
    },
    {
     "data": {
      "text/plain": [
       "435"
      ]
     },
     "execution_count": 7,
     "metadata": {},
     "output_type": "execute_result"
    }
   ],
   "source": [
    "# Adding new data to the DataFrame\n",
    "# Reading dictionary from a JSON file\n",
    "categories=['earth','buisness','innovation','travel']\n",
    "for s in categories:\n",
    "    for i in range(1,12):\n",
    "        file=s+'_data_page_'+str(i)+'.json'\n",
    "        with open(file, 'r') as json_file:\n",
    "            data = json.load(json_file)\n",
    "\n",
    "        # Flatten the dictionary\n",
    "        flatten_data = []\n",
    "        for key, inner_dict in data.items():\n",
    "            flatten_data.append(Row( **inner_dict))\n",
    "\n",
    "        # Create a DataFrame\n",
    "        df2 = spark.createDataFrame(flatten_data,schema)\n",
    "        df = df.union(df2)\n",
    "\n",
    "# Show the DataFrame\n",
    "df.show()\n",
    "df.count()\n"
   ]
  },
  {
   "cell_type": "code",
   "execution_count": 8,
   "id": "6f90fb76",
   "metadata": {},
   "outputs": [
    {
     "name": "stdout",
     "output_type": "stream",
     "text": [
      "+--------------------+--------------------+--------------------+--------------------+--------------------+--------------------+------+--------------------+--------------------+\n",
      "|                link|            subtitle|                time|               title|              topics|              images|videos|              author|                text|\n",
      "+--------------------+--------------------+--------------------+--------------------+--------------------+--------------------+------+--------------------+--------------------+\n",
      "|https://www.bbc.c...|                    |                null|China holds milit...|[Asia, China, Tai...|[https://ichef.bb...|    []|Kelly Ng in Singa...|[China has starte...|\n",
      "|https://www.bbc.c...|                    |                null|Singapore Airline...|[Aviation acciden...|[https://ichef.bb...|    []|  Jacqueline Howard,|[More than 20 peo...|\n",
      "|https://www.bbc.c...|Dash-cam footage ...|2024-05-23T20:25:...|Golfer Scottie Sc...|                  []|                  []|    []|                    |                  []|\n",
      "|https://www.bbc.c...|There could be up...|2024-05-23T16:09:...|Hurricane season ...|[Climate, Hurrica...|[https://ichef.bb...|    []|      Mark Poynting,|[The North Atlant...|\n",
      "|https://www.bbc.c...|Kenyan President ...|2024-05-23T19:09:...|US names Kenya as...|[Kenya, Nato, Afr...|[https://ichef.bb...|    []|         Sam Cabral,|[US President Joe...|\n",
      "|https://www.bbc.c...|                    |                null|Rosenberg: Russia...|[Europe, Russia, ...|[https://ichef.bb...|    []|    Steve Rosenberg,|[When one top def...|\n",
      "|https://www.bbc.c...|                    |                null|Pope clears way f...|                  []|[https://ichef.bb...|    []|         Tom Gerken,|[A London-born te...|\n",
      "|https://www.bbc.c...|Footage emerged l...|2024-05-23T16:09:...|Diddy's violence ...|             [Music]|[https://ichef.bb...|    []|    Steven McIntosh,|[Singer Cassie ha...|\n",
      "|https://www.bbc.c...|                    |                null|Ebrahim Raisi: Ir...| [Middle East, Iran]|[https://ichef.bb...|    []|      David Gritten,|[Iran's late Pres...|\n",
      "|https://www.bbc.c...|                    |2024-05-23T18:09:...|Macron puts New C...|[Europe, New Cale...|[https://ichef.bb...|    []|     Thomas Spender,|[President Emmanu...|\n",
      "|https://www.bbc.c...|                    |2024-05-23T20:22:...|Malnourished sea ...|                  []|                  []|    []|                    |                  []|\n",
      "|https://www.bbc.c...|                    |2024-05-23T15:09:...|Daily cannabis us...|[Cannabis , Drug ...|[https://ichef.bb...|    []|         Sam Cabral,|[The number of Am...|\n",
      "|https://www.bbc.c...|Fighting is devas...|2024-05-23T19:09:...|Sudan's El Fasher...|     [Sudan, Africa]|[https://ichef.bb...|    []|Mohamed Zakaria O...|[Fierce fighting ...|\n",
      "|https://www.bbc.c...|                    |                null|How Rishi Sunak s...|[Conservative Par...|[https://ichef.bb...|    []|      Henry Zeffman,|[“Labour MPs are ...|\n",
      "|https://www.bbc.c...|                    |                null|William Ruto in U...|[Kenya, Africa, U...|[https://ichef.bb...|    []|Barbara Plett Usher,|[Kenyan President...|\n",
      "|https://www.bbc.c...|New harrowing foo...|2024-05-23T08:09:...|Israeli hostage's...|[Israel, Palestin...|[https://ichef.bb...|    []|       Lucy Manning,|[The brother of I...|\n",
      "|https://www.bbc.c...|Aviation experts ...|2024-05-23T00:09:...|What is it like t...|[Singapore, Trave...|[https://ichef.bb...|    []|  Charlotte Edwards,|[For passengers o...|\n",
      "|https://www.bbc.c...|A clash with the ...|2024-05-23T09:09:...|Scarlett Johansso...|[Scarlett Johanss...|[https://ichef.bb...|    []|       Zoe Kleinman,|[“Move fast and b...|\n",
      "|https://www.bbc.c...|An election has b...|2024-05-22T21:09:...|Chris Mason: Why ...|[General election...|[https://ichef.bb...|    []|     By Chris Mason,|[The general elec...|\n",
      "|https://www.bbc.c...|                    |                null|One-minute World ...|                  []|                  []|    []|                    |                  []|\n",
      "+--------------------+--------------------+--------------------+--------------------+--------------------+--------------------+------+--------------------+--------------------+\n",
      "only showing top 20 rows\n",
      "\n"
     ]
    },
    {
     "data": {
      "text/plain": [
       "525"
      ]
     },
     "execution_count": 8,
     "metadata": {},
     "output_type": "execute_result"
    }
   ],
   "source": [
    "# Readind data from culture categorie\n",
    "# Reading dictionary from a JSON file\n",
    "categories=['culture']\n",
    "for s in categories:\n",
    "    for i in range(1,11):\n",
    "        file=s+'_data_page_'+str(i)+'.json'\n",
    "        with open(file, 'r') as json_file:\n",
    "            data = json.load(json_file)\n",
    "\n",
    "        # Flatten the dictionary\n",
    "        flatten_data = []\n",
    "        for key, inner_dict in data.items():\n",
    "            flatten_data.append(Row( **inner_dict))\n",
    "\n",
    "        # Create a DataFrame\n",
    "        df2 = spark.createDataFrame(flatten_data,schema)\n",
    "        df = df.union(df2)\n",
    "\n",
    "# Show the DataFrame\n",
    "df.show()\n",
    "df.count()\n"
   ]
  },
  {
   "cell_type": "code",
   "execution_count": 9,
   "id": "df02e15b",
   "metadata": {},
   "outputs": [
    {
     "name": "stdout",
     "output_type": "stream",
     "text": [
      "+--------------------+--------------------+--------------------+--------------------+--------------------+--------------------+------+--------------------+--------------------+\n",
      "|                link|            subtitle|                time|               title|              topics|              images|videos|              author|                text|\n",
      "+--------------------+--------------------+--------------------+--------------------+--------------------+--------------------+------+--------------------+--------------------+\n",
      "|https://www.bbc.c...|                    |                null|China holds milit...|[Asia, China, Tai...|[https://ichef.bb...|    []|Kelly Ng in Singa...|[China has starte...|\n",
      "|https://www.bbc.c...|                    |                null|Singapore Airline...|[Aviation acciden...|[https://ichef.bb...|    []|  Jacqueline Howard,|[More than 20 peo...|\n",
      "|https://www.bbc.c...|Dash-cam footage ...|2024-05-23T20:25:...|Golfer Scottie Sc...|                  []|                  []|    []|                    |                  []|\n",
      "|https://www.bbc.c...|There could be up...|2024-05-23T16:09:...|Hurricane season ...|[Climate, Hurrica...|[https://ichef.bb...|    []|      Mark Poynting,|[The North Atlant...|\n",
      "|https://www.bbc.c...|Kenyan President ...|2024-05-23T19:09:...|US names Kenya as...|[Kenya, Nato, Afr...|[https://ichef.bb...|    []|         Sam Cabral,|[US President Joe...|\n",
      "|https://www.bbc.c...|                    |                null|Rosenberg: Russia...|[Europe, Russia, ...|[https://ichef.bb...|    []|    Steve Rosenberg,|[When one top def...|\n",
      "|https://www.bbc.c...|                    |                null|Pope clears way f...|                  []|[https://ichef.bb...|    []|         Tom Gerken,|[A London-born te...|\n",
      "|https://www.bbc.c...|Footage emerged l...|2024-05-23T16:09:...|Diddy's violence ...|             [Music]|[https://ichef.bb...|    []|    Steven McIntosh,|[Singer Cassie ha...|\n",
      "|https://www.bbc.c...|                    |                null|Ebrahim Raisi: Ir...| [Middle East, Iran]|[https://ichef.bb...|    []|      David Gritten,|[Iran's late Pres...|\n",
      "|https://www.bbc.c...|                    |2024-05-23T18:09:...|Macron puts New C...|[Europe, New Cale...|[https://ichef.bb...|    []|     Thomas Spender,|[President Emmanu...|\n",
      "|https://www.bbc.c...|                    |2024-05-23T20:22:...|Malnourished sea ...|                  []|                  []|    []|                    |                  []|\n",
      "|https://www.bbc.c...|                    |2024-05-23T15:09:...|Daily cannabis us...|[Cannabis , Drug ...|[https://ichef.bb...|    []|         Sam Cabral,|[The number of Am...|\n",
      "|https://www.bbc.c...|Fighting is devas...|2024-05-23T19:09:...|Sudan's El Fasher...|     [Sudan, Africa]|[https://ichef.bb...|    []|Mohamed Zakaria O...|[Fierce fighting ...|\n",
      "|https://www.bbc.c...|                    |                null|How Rishi Sunak s...|[Conservative Par...|[https://ichef.bb...|    []|      Henry Zeffman,|[“Labour MPs are ...|\n",
      "|https://www.bbc.c...|                    |                null|William Ruto in U...|[Kenya, Africa, U...|[https://ichef.bb...|    []|Barbara Plett Usher,|[Kenyan President...|\n",
      "|https://www.bbc.c...|New harrowing foo...|2024-05-23T08:09:...|Israeli hostage's...|[Israel, Palestin...|[https://ichef.bb...|    []|       Lucy Manning,|[The brother of I...|\n",
      "|https://www.bbc.c...|Aviation experts ...|2024-05-23T00:09:...|What is it like t...|[Singapore, Trave...|[https://ichef.bb...|    []|  Charlotte Edwards,|[For passengers o...|\n",
      "|https://www.bbc.c...|A clash with the ...|2024-05-23T09:09:...|Scarlett Johansso...|[Scarlett Johanss...|[https://ichef.bb...|    []|       Zoe Kleinman,|[“Move fast and b...|\n",
      "|https://www.bbc.c...|An election has b...|2024-05-22T21:09:...|Chris Mason: Why ...|[General election...|[https://ichef.bb...|    []|     By Chris Mason,|[The general elec...|\n",
      "|https://www.bbc.c...|                    |                null|One-minute World ...|                  []|                  []|    []|                    |                  []|\n",
      "+--------------------+--------------------+--------------------+--------------------+--------------------+--------------------+------+--------------------+--------------------+\n",
      "only showing top 20 rows\n",
      "\n"
     ]
    },
    {
     "data": {
      "text/plain": [
       "2368"
      ]
     },
     "execution_count": 9,
     "metadata": {},
     "output_type": "execute_result"
    }
   ],
   "source": [
    "# Reading 2024 data\n",
    "# Reading dictionary from a JSON file\n",
    "categories=['2024']\n",
    "for s in categories:\n",
    "    for i in range(1,220):\n",
    "        file=s+'_data_page_'+str(i)+'.json'\n",
    "        with open(file, 'r') as json_file:\n",
    "            data = json.load(json_file)\n",
    "\n",
    "        # Flatten the dictionary\n",
    "        flatten_data = []\n",
    "        for key, inner_dict in data.items():\n",
    "            flatten_data.append(Row( **inner_dict))\n",
    "\n",
    "        # Create a DataFrame\n",
    "        df2 = spark.createDataFrame(flatten_data,schema)\n",
    "        df = df.union(df2)\n",
    "\n",
    "# Show the DataFrame\n",
    "df.show()\n",
    "df.count()"
   ]
  },
  {
   "cell_type": "code",
   "execution_count": 10,
   "id": "31e44454",
   "metadata": {},
   "outputs": [
    {
     "data": {
      "text/plain": [
       "[('link', 'string'),\n",
       " ('subtitle', 'string'),\n",
       " ('time', 'string'),\n",
       " ('title', 'string'),\n",
       " ('topics', 'array<string>'),\n",
       " ('images', 'array<string>'),\n",
       " ('videos', 'array<string>'),\n",
       " ('author', 'string'),\n",
       " ('text', 'array<string>')]"
      ]
     },
     "execution_count": 10,
     "metadata": {},
     "output_type": "execute_result"
    }
   ],
   "source": [
    "df.dtypes"
   ]
  },
  {
   "cell_type": "code",
   "execution_count": 11,
   "id": "52877031",
   "metadata": {},
   "outputs": [],
   "source": [
    "df = df.withColumn(\"time\", to_timestamp(\"time\"))"
   ]
  },
  {
   "cell_type": "code",
   "execution_count": 12,
   "id": "8672eb7b",
   "metadata": {},
   "outputs": [
    {
     "data": {
      "text/plain": [
       "[('link', 'string'),\n",
       " ('subtitle', 'string'),\n",
       " ('time', 'timestamp'),\n",
       " ('title', 'string'),\n",
       " ('topics', 'array<string>'),\n",
       " ('images', 'array<string>'),\n",
       " ('videos', 'array<string>'),\n",
       " ('author', 'string'),\n",
       " ('text', 'array<string>')]"
      ]
     },
     "execution_count": 12,
     "metadata": {},
     "output_type": "execute_result"
    }
   ],
   "source": [
    "df.dtypes"
   ]
  },
  {
   "cell_type": "code",
   "execution_count": 13,
   "id": "c6d33fa2",
   "metadata": {},
   "outputs": [
    {
     "name": "stdout",
     "output_type": "stream",
     "text": [
      "+--------------------+--------------------+--------------------+--------------------+--------------------+--------------------+------+--------------------+--------------------+\n",
      "|                link|            subtitle|                time|               title|              topics|              images|videos|              author|                text|\n",
      "+--------------------+--------------------+--------------------+--------------------+--------------------+--------------------+------+--------------------+--------------------+\n",
      "|https://www.bbc.c...|                    |                null|China holds milit...|[Asia, China, Tai...|[https://ichef.bb...|    []|Kelly Ng in Singa...|[China has starte...|\n",
      "|https://www.bbc.c...|                    |                null|Singapore Airline...|[Aviation acciden...|[https://ichef.bb...|    []|  Jacqueline Howard,|[More than 20 peo...|\n",
      "|https://www.bbc.c...|Dash-cam footage ...|2024-05-23 20:25:...|Golfer Scottie Sc...|                  []|                  []|    []|                    |                  []|\n",
      "|https://www.bbc.c...|There could be up...|2024-05-23 16:09:...|Hurricane season ...|[Climate, Hurrica...|[https://ichef.bb...|    []|      Mark Poynting,|[The North Atlant...|\n",
      "|https://www.bbc.c...|Kenyan President ...|2024-05-23 19:09:...|US names Kenya as...|[Kenya, Nato, Afr...|[https://ichef.bb...|    []|         Sam Cabral,|[US President Joe...|\n",
      "|https://www.bbc.c...|                    |                null|Rosenberg: Russia...|[Europe, Russia, ...|[https://ichef.bb...|    []|    Steve Rosenberg,|[When one top def...|\n",
      "|https://www.bbc.c...|                    |                null|Pope clears way f...|                  []|[https://ichef.bb...|    []|         Tom Gerken,|[A London-born te...|\n",
      "|https://www.bbc.c...|Footage emerged l...|2024-05-23 16:09:...|Diddy's violence ...|             [Music]|[https://ichef.bb...|    []|    Steven McIntosh,|[Singer Cassie ha...|\n",
      "|https://www.bbc.c...|                    |                null|Ebrahim Raisi: Ir...| [Middle East, Iran]|[https://ichef.bb...|    []|      David Gritten,|[Iran's late Pres...|\n",
      "|https://www.bbc.c...|                    |2024-05-23 18:09:...|Macron puts New C...|[Europe, New Cale...|[https://ichef.bb...|    []|     Thomas Spender,|[President Emmanu...|\n",
      "|https://www.bbc.c...|                    |2024-05-23 20:22:...|Malnourished sea ...|                  []|                  []|    []|                    |                  []|\n",
      "|https://www.bbc.c...|                    |2024-05-23 15:09:...|Daily cannabis us...|[Cannabis , Drug ...|[https://ichef.bb...|    []|         Sam Cabral,|[The number of Am...|\n",
      "|https://www.bbc.c...|Fighting is devas...|2024-05-23 19:09:...|Sudan's El Fasher...|     [Sudan, Africa]|[https://ichef.bb...|    []|Mohamed Zakaria O...|[Fierce fighting ...|\n",
      "|https://www.bbc.c...|                    |                null|How Rishi Sunak s...|[Conservative Par...|[https://ichef.bb...|    []|      Henry Zeffman,|[“Labour MPs are ...|\n",
      "|https://www.bbc.c...|                    |                null|William Ruto in U...|[Kenya, Africa, U...|[https://ichef.bb...|    []|Barbara Plett Usher,|[Kenyan President...|\n",
      "|https://www.bbc.c...|New harrowing foo...|2024-05-23 08:09:...|Israeli hostage's...|[Israel, Palestin...|[https://ichef.bb...|    []|       Lucy Manning,|[The brother of I...|\n",
      "|https://www.bbc.c...|Aviation experts ...|2024-05-23 00:09:...|What is it like t...|[Singapore, Trave...|[https://ichef.bb...|    []|  Charlotte Edwards,|[For passengers o...|\n",
      "|https://www.bbc.c...|A clash with the ...|2024-05-23 09:09:...|Scarlett Johansso...|[Scarlett Johanss...|[https://ichef.bb...|    []|       Zoe Kleinman,|[“Move fast and b...|\n",
      "|https://www.bbc.c...|An election has b...|2024-05-22 21:09:...|Chris Mason: Why ...|[General election...|[https://ichef.bb...|    []|     By Chris Mason,|[The general elec...|\n",
      "|https://www.bbc.c...|                    |                null|One-minute World ...|                  []|                  []|    []|                    |                  []|\n",
      "+--------------------+--------------------+--------------------+--------------------+--------------------+--------------------+------+--------------------+--------------------+\n",
      "only showing top 20 rows\n",
      "\n"
     ]
    }
   ],
   "source": [
    "df.show()"
   ]
  },
  {
   "cell_type": "code",
   "execution_count": 40,
   "id": "0220af23",
   "metadata": {},
   "outputs": [
    {
     "name": "stdout",
     "output_type": "stream",
     "text": [
      "+--------------------+--------------------+--------------------+--------------------+--------------------+--------------------+--------------------+--------------------+--------------------+\n",
      "|                link|            subtitle|                time|               title|              topics|              images|              videos|              author|                text|\n",
      "+--------------------+--------------------+--------------------+--------------------+--------------------+--------------------+--------------------+--------------------+--------------------+\n",
      "|https://www.bbc.c...|Dash-cam footage ...|2024-05-23 20:25:...|Golfer Scottie Sc...|                  []|                  []|                  []|                    |                  []|\n",
      "|https://www.bbc.c...|There could be up...|2024-05-23 16:09:...|Hurricane season ...|[Climate, Hurrica...|[https://ichef.bb...|                  []|      Mark Poynting,|[The North Atlant...|\n",
      "|https://www.bbc.c...|Kenyan President ...|2024-05-23 19:09:...|US names Kenya as...|[Kenya, Nato, Afr...|[https://ichef.bb...|                  []|         Sam Cabral,|[US President Joe...|\n",
      "|https://www.bbc.c...|Footage emerged l...|2024-05-23 16:09:...|Diddy's violence ...|             [Music]|[https://ichef.bb...|                  []|    Steven McIntosh,|[Singer Cassie ha...|\n",
      "|https://www.bbc.c...|                    |2024-05-23 18:09:...|Macron puts New C...|[Europe, New Cale...|[https://ichef.bb...|                  []|     Thomas Spender,|[President Emmanu...|\n",
      "|https://www.bbc.c...|                    |2024-05-23 20:22:...|Malnourished sea ...|                  []|                  []|                  []|                    |                  []|\n",
      "|https://www.bbc.c...|                    |2024-05-23 15:09:...|Daily cannabis us...|[Cannabis , Drug ...|[https://ichef.bb...|                  []|         Sam Cabral,|[The number of Am...|\n",
      "|https://www.bbc.c...|Fighting is devas...|2024-05-23 19:09:...|Sudan's El Fasher...|     [Sudan, Africa]|[https://ichef.bb...|                  []|Mohamed Zakaria O...|[Fierce fighting ...|\n",
      "|https://www.bbc.c...|New harrowing foo...|2024-05-23 08:09:...|Israeli hostage's...|[Israel, Palestin...|[https://ichef.bb...|                  []|       Lucy Manning,|[The brother of I...|\n",
      "|https://www.bbc.c...|Aviation experts ...|2024-05-23 00:09:...|What is it like t...|[Singapore, Trave...|[https://ichef.bb...|                  []|  Charlotte Edwards,|[For passengers o...|\n",
      "|https://www.bbc.c...|A clash with the ...|2024-05-23 09:09:...|Scarlett Johansso...|[Scarlett Johanss...|[https://ichef.bb...|                  []|       Zoe Kleinman,|[“Move fast and b...|\n",
      "|https://www.bbc.c...|The Ghanaian todd...|2024-05-23 13:09:...|Ace-Liam Ankrah: ...|[World records, A...|[https://ichef.bb...|                  []|Danai Nesta Kupemba,|[The mother of th...|\n",
      "|https://www.bbc.c...|The work is one o...|2024-05-23 18:09:...|Stolen €5m Franci...|       [Madrid, Art]|[https://ichef.bb...|                  []|        Cat McGowan,|[Spanish police h...|\n",
      "|https://www.bbc.c...|The band call him...|2024-05-23 09:09:...|Charlie Colin: Fo...|             [Music]|[https://ichef.bb...|                  []|       Helen Bushby,|[US rock band Tra...|\n",
      "|https://www.bbc.c...|Residents are pic...|2024-05-23 17:09:...|Drone shows path ...|                  []|                  []|                  []|                    |                  []|\n",
      "|https://www.bbc.c...|Oxford Action for...|2024-05-23 20:09:...|Oxford University...|[Israel-Gaza war,...|[https://ichef.bb...|                  []|        Ethan Gudge,|[Sixteen proteste...|\n",
      "|https://www.bbc.c...|Norfolk Southern ...|2024-05-23 19:09:...|East Palestine: F...|[Ohio, East Pales...|[https://ichef.bb...|                  []| Bernd Debusmann Jr,|[The firm at the ...|\n",
      "|https://www.bbc.c...|Officials allege ...|2024-05-23 18:09:...|Live Nation: US s...|[International Bu...|[https://ichef.bb...|                  []|      Peter Hoskins,|[US regulators ha...|\n",
      "|https://www.bbc.c...|England comfortab...|2024-05-23 20:13:...|England v Pakista...|                  []|                  []|[//emp.bbc.com/em...|                    |[First ODI, Count...|\n",
      "|https://www.bbc.c...|Max Verstappen sa...|2024-05-23 17:09:...|Max Verstappen: M...|                  []|[https://ichef.bb...|                  []|                    |[Max Verstappen s...|\n",
      "+--------------------+--------------------+--------------------+--------------------+--------------------+--------------------+--------------------+--------------------+--------------------+\n",
      "only showing top 20 rows\n",
      "\n"
     ]
    }
   ],
   "source": [
    "# Filter rows where date is May 23, 2024\n",
    "df_filtered = df.filter(date_format(df[\"time\"], \"yyyy-MM-dd\") == \"2024-05-23\")\n",
    "df_filtered.show()"
   ]
  },
  {
   "cell_type": "code",
   "execution_count": 41,
   "id": "2a83eaef",
   "metadata": {},
   "outputs": [
    {
     "name": "stdout",
     "output_type": "stream",
     "text": [
      "+--------------------+-----+\n",
      "|               topic|count|\n",
      "+--------------------+-----+\n",
      "|England and Wales...|  122|\n",
      "|General election ...|  116|\n",
      "|               Music|   55|\n",
      "|       United States|   51|\n",
      "|          Air travel|   50|\n",
      "|           Transport|   50|\n",
      "|               Wales|   45|\n",
      "|         Environment|   35|\n",
      "|         Photography|   34|\n",
      "|Wildlife photography|   34|\n",
      "|               India|   30|\n",
      "|         Rishi Sunak|   30|\n",
      "|            Features|   29|\n",
      "|             Bristol|   29|\n",
      "|                Asia|   27|\n",
      "|           Berkshire|   26|\n",
      "|        Labour Party|   26|\n",
      "|              London|   25|\n",
      "|              Nature|   24|\n",
      "|    Northern Ireland|   23|\n",
      "+--------------------+-----+\n",
      "only showing top 20 rows\n",
      "\n"
     ]
    }
   ],
   "source": [
    "# Perform explode on topics column\n",
    "df_exploded = df.withColumn(\"topic\", explode(\"topics\"))\n",
    "#Extracting trending topics\n",
    "trending_topics=df_exploded.groupBy(\"topic\" ).count()\n",
    "trending_topics=trending_topics.orderBy('count',ascending=0)\n",
    "trending_topics.show()"
   ]
  },
  {
   "cell_type": "code",
   "execution_count": 42,
   "id": "0c7b30c4",
   "metadata": {},
   "outputs": [
    {
     "name": "stdout",
     "output_type": "stream",
     "text": [
      "+--------------------+--------------------+-----+\n",
      "|               topic|            Articles|count|\n",
      "+--------------------+--------------------+-----+\n",
      "|England and Wales...|[North Yorkshire ...|  122|\n",
      "|General election ...|[General election...|  116|\n",
      "|               Music|[Billie Eilish an...|   55|\n",
      "|       United States|[Elon Musk says h...|   51|\n",
      "|          Air travel|[Ryanair sees ris...|   50|\n",
      "|           Transport|[Aircraft turbule...|   50|\n",
      "|               Wales|[Rare monkeys: Fo...|   45|\n",
      "|         Environment|[Straw bale Ely C...|   35|\n",
      "|         Photography|[Dorset's Big Pic...|   34|\n",
      "|Wildlife photography|[Dorset's Big Pic...|   34|\n",
      "|               India|[Assam: The 'doub...|   30|\n",
      "|         Rishi Sunak|[Sunak says it'll...|   30|\n",
      "|            Features|[Some Parisians s...|   29|\n",
      "|             Bristol|[Geoff Kitchen: B...|   29|\n",
      "|                Asia|[World's most exp...|   27|\n",
      "|           Berkshire|[Berkshire's Big ...|   26|\n",
      "|        Labour Party|[Rachel Reeves pr...|   26|\n",
      "|              London|[TfL Cycle Sunday...|   25|\n",
      "|              Nature|[Straw bale Ely C...|   24|\n",
      "|    Northern Ireland|[Londonderry: Ano...|   23|\n",
      "+--------------------+--------------------+-----+\n",
      "only showing top 20 rows\n",
      "\n"
     ]
    }
   ],
   "source": [
    "#Grouping by \"Topic\" and aggregating the titles\n",
    "classified_articles = df_exploded.groupBy(\"topic\").agg(collect_list(\"Title\").alias(\"Articles\"))\n",
    "#Adding 'count' column ti classified_articles:\n",
    "join_df=classified_articles.join(trending_topics,classified_articles.topic==trending_topics.topic)\n",
    "join_df = join_df.select(classified_articles[\"topic\"], \"Articles\", trending_topics[\"count\"])\n",
    "#Ordring by popularity of the topic\n",
    "join_df=join_df.orderBy('count',ascending=0)\n",
    "#Showing the result\n",
    "join_df.show()\n",
    "\n"
   ]
  },
  {
   "cell_type": "code",
   "execution_count": 27,
   "id": "1af7d4c6",
   "metadata": {},
   "outputs": [],
   "source": [
    "#different_articles=join_df.distinct().count()\n"
   ]
  },
  {
   "cell_type": "code",
   "execution_count": null,
   "id": "877bf40e",
   "metadata": {},
   "outputs": [],
   "source": []
  }
 ],
 "metadata": {
  "kernelspec": {
   "display_name": "Python 3 (ipykernel)",
   "language": "python",
   "name": "python3"
  },
  "language_info": {
   "codemirror_mode": {
    "name": "ipython",
    "version": 3
   },
   "file_extension": ".py",
   "mimetype": "text/x-python",
   "name": "python",
   "nbconvert_exporter": "python",
   "pygments_lexer": "ipython3",
   "version": "3.10.8"
  }
 },
 "nbformat": 4,
 "nbformat_minor": 5
}
